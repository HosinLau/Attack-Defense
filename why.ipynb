{
  "nbformat": 4,
  "nbformat_minor": 0,
  "metadata": {
    "colab": {
      "name": "angr.ipynb",
      "provenance": [],
      "collapsed_sections": [],
      "authorship_tag": "ABX9TyPPr8ri4JMkxPS2P6kJqsNE",
      "include_colab_link": true
    },
    "kernelspec": {
      "name": "python3",
      "display_name": "Python 3"
    },
    "language_info": {
      "name": "python"
    }
  },
  "cells": [
    {
      "cell_type": "markdown",
      "metadata": {
        "id": "view-in-github",
        "colab_type": "text"
      },
      "source": [
        "<a href=\"https://colab.research.google.com/github/HosinLau/Attack-Defense/blob/main/why.ipynb\" target=\"_parent\"><img src=\"https://colab.research.google.com/assets/colab-badge.svg\" alt=\"Open In Colab\"/></a>"
      ]
    },
    {
      "cell_type": "code",
      "metadata": {
        "colab": {
          "base_uri": "https://localhost:8080/"
        },
        "id": "brg3kkftoPC5",
        "outputId": "26d2b3ff-4f79-410d-b0f9-85a0c7586811"
      },
      "source": [
        "pip install angr\n"
      ],
      "execution_count": null,
      "outputs": [
        {
          "output_type": "stream",
          "name": "stdout",
          "text": [
            "Collecting angr\n",
            "  Downloading angr-9.0.10072-py3-none-manylinux1_x86_64.whl (2.3 MB)\n",
            "\u001b[K     |████████████████████████████████| 2.3 MB 38.4 MB/s \n",
            "\u001b[?25hCollecting mulpyplexer\n",
            "  Downloading mulpyplexer-0.09.tar.gz (2.8 kB)\n",
            "Requirement already satisfied: progressbar2 in /usr/local/lib/python3.7/dist-packages (from angr) (3.38.0)\n",
            "Collecting capstone>=3.0.5rc2\n",
            "  Downloading capstone-4.0.2-py2.py3-none-manylinux1_x86_64.whl (2.1 MB)\n",
            "\u001b[K     |████████████████████████████████| 2.1 MB 43.4 MB/s \n",
            "\u001b[?25hRequirement already satisfied: psutil in /usr/local/lib/python3.7/dist-packages (from angr) (5.4.8)\n",
            "Collecting archinfo==9.0.10072\n",
            "  Downloading archinfo-9.0.10072-py3-none-any.whl (56 kB)\n",
            "\u001b[K     |████████████████████████████████| 56 kB 4.8 MB/s \n",
            "\u001b[?25hCollecting unicorn==1.0.2rc4\n",
            "  Downloading unicorn-1.0.2rc4-py2.py3-none-manylinux1_x86_64.whl (8.1 MB)\n",
            "\u001b[K     |████████████████████████████████| 8.1 MB 19.8 MB/s \n",
            "\u001b[?25hRequirement already satisfied: pycparser>=2.18 in /usr/local/lib/python3.7/dist-packages (from angr) (2.20)\n",
            "Collecting cle==9.0.10072\n",
            "  Downloading cle-9.0.10072-py3-none-any.whl (147 kB)\n",
            "\u001b[K     |████████████████████████████████| 147 kB 50.7 MB/s \n",
            "\u001b[?25hCollecting nampa\n",
            "  Downloading nampa-0.1.1-py2.py3-none-any.whl (9.2 kB)\n",
            "Collecting itanium-demangler\n",
            "  Downloading itanium_demangler-1.0.tar.gz (6.9 kB)\n",
            "Collecting dpkt\n",
            "  Downloading dpkt-1.9.7.2-py3-none-any.whl (181 kB)\n",
            "\u001b[K     |████████████████████████████████| 181 kB 58.3 MB/s \n",
            "\u001b[?25hRequirement already satisfied: protobuf>=3.12.0 in /usr/local/lib/python3.7/dist-packages (from angr) (3.17.3)\n",
            "Requirement already satisfied: networkx>=2.0 in /usr/local/lib/python3.7/dist-packages (from angr) (2.6.3)\n",
            "Collecting claripy==9.0.10072\n",
            "  Downloading claripy-9.0.10072-py3-none-any.whl (154 kB)\n",
            "\u001b[K     |████████████████████████████████| 154 kB 75.7 MB/s \n",
            "\u001b[?25hCollecting ailment==9.0.10072\n",
            "  Downloading ailment-9.0.10072-py3-none-any.whl (19 kB)\n",
            "Collecting GitPython\n",
            "  Downloading GitPython-3.1.24-py3-none-any.whl (180 kB)\n",
            "\u001b[K     |████████████████████████████████| 180 kB 80.3 MB/s \n",
            "\u001b[?25hRequirement already satisfied: cachetools in /usr/local/lib/python3.7/dist-packages (from angr) (4.2.4)\n",
            "Requirement already satisfied: sortedcontainers in /usr/local/lib/python3.7/dist-packages (from angr) (2.4.0)\n",
            "Collecting rpyc\n",
            "  Downloading rpyc-5.0.1-py3-none-any.whl (68 kB)\n",
            "\u001b[K     |████████████████████████████████| 68 kB 6.5 MB/s \n",
            "\u001b[?25hCollecting CppHeaderParser\n",
            "  Downloading CppHeaderParser-2.7.4.tar.gz (54 kB)\n",
            "\u001b[K     |████████████████████████████████| 54 kB 3.4 MB/s \n",
            "\u001b[?25hRequirement already satisfied: cffi>=1.14.0 in /usr/local/lib/python3.7/dist-packages (from angr) (1.14.6)\n",
            "Collecting pyvex==9.0.10072\n",
            "  Downloading pyvex-9.0.10072-py3-none-manylinux1_x86_64.whl (2.9 MB)\n",
            "\u001b[K     |████████████████████████████████| 2.9 MB 50.0 MB/s \n",
            "\u001b[?25hRequirement already satisfied: future in /usr/local/lib/python3.7/dist-packages (from claripy==9.0.10072->angr) (0.16.0)\n",
            "Requirement already satisfied: decorator in /usr/local/lib/python3.7/dist-packages (from claripy==9.0.10072->angr) (4.4.2)\n",
            "Collecting z3-solver>=4.8.5.0\n",
            "  Downloading z3_solver-4.8.12.0-py2.py3-none-manylinux1_x86_64.whl (33.0 MB)\n",
            "\u001b[K     |████████████████████████████████| 33.0 MB 15 kB/s \n",
            "\u001b[?25hCollecting pysmt>=0.9.1.dev119\n",
            "  Downloading PySMT-0.9.1.dev139-py2.py3-none-any.whl (317 kB)\n",
            "\u001b[K     |████████████████████████████████| 317 kB 78.5 MB/s \n",
            "\u001b[?25hCollecting pefile\n",
            "  Downloading pefile-2021.9.3.tar.gz (72 kB)\n",
            "\u001b[K     |████████████████████████████████| 72 kB 657 kB/s \n",
            "\u001b[?25hCollecting pyelftools>=0.27\n",
            "  Downloading pyelftools-0.27-py2.py3-none-any.whl (151 kB)\n",
            "\u001b[K     |████████████████████████████████| 151 kB 57.6 MB/s \n",
            "\u001b[?25hCollecting bitstring\n",
            "  Downloading bitstring-3.1.9-py3-none-any.whl (38 kB)\n",
            "Requirement already satisfied: six>=1.9 in /usr/local/lib/python3.7/dist-packages (from protobuf>=3.12.0->angr) (1.15.0)\n",
            "Collecting ply\n",
            "  Downloading ply-3.11-py2.py3-none-any.whl (49 kB)\n",
            "\u001b[K     |████████████████████████████████| 49 kB 6.5 MB/s \n",
            "\u001b[?25hRequirement already satisfied: typing-extensions>=3.7.4.3 in /usr/local/lib/python3.7/dist-packages (from GitPython->angr) (3.7.4.3)\n",
            "Collecting gitdb<5,>=4.0.1\n",
            "  Downloading gitdb-4.0.7-py3-none-any.whl (63 kB)\n",
            "\u001b[K     |████████████████████████████████| 63 kB 2.0 MB/s \n",
            "\u001b[?25hCollecting smmap<5,>=3.0.1\n",
            "  Downloading smmap-4.0.0-py2.py3-none-any.whl (24 kB)\n",
            "Requirement already satisfied: python-utils>=2.3.0 in /usr/local/lib/python3.7/dist-packages (from progressbar2->angr) (2.5.6)\n",
            "Collecting plumbum\n",
            "  Downloading plumbum-1.7.0-py2.py3-none-any.whl (116 kB)\n",
            "\u001b[K     |████████████████████████████████| 116 kB 77.4 MB/s \n",
            "\u001b[?25hBuilding wheels for collected packages: CppHeaderParser, itanium-demangler, mulpyplexer, pefile\n",
            "  Building wheel for CppHeaderParser (setup.py) ... \u001b[?25l\u001b[?25hdone\n",
            "  Created wheel for CppHeaderParser: filename=CppHeaderParser-2.7.4-py3-none-any.whl size=44977 sha256=b460a4aa01251df841c013b391e255ce6ae1f769d67602ddc264247e79987ac1\n",
            "  Stored in directory: /root/.cache/pip/wheels/84/c8/fe/59e29c5a1086aa96a044d3bf6aa7c3facff5fdf47999bbb04d\n",
            "  Building wheel for itanium-demangler (setup.py) ... \u001b[?25l\u001b[?25hdone\n",
            "  Created wheel for itanium-demangler: filename=itanium_demangler-1.0-py3-none-any.whl size=7288 sha256=53b53cc20e46f435ea436e20918fe5f178e485cbe1de4efde933b3ed3a0a5207\n",
            "  Stored in directory: /root/.cache/pip/wheels/df/c5/38/68a43dd42852dc0de07bd8e26dca0086a0a5fb9ca9f209eeea\n",
            "  Building wheel for mulpyplexer (setup.py) ... \u001b[?25l\u001b[?25hdone\n",
            "  Created wheel for mulpyplexer: filename=mulpyplexer-0.9-py3-none-any.whl size=3802 sha256=d0a97b2fd73f96153f623208b109ce86f5bf0ef556a1bef2ad7e7424950e3f6e\n",
            "  Stored in directory: /root/.cache/pip/wheels/fe/f1/00/f3092247fe5e4cc0098e2b5d314e54636edc2d6f92a8d8d6d1\n",
            "  Building wheel for pefile (setup.py) ... \u001b[?25l\u001b[?25hdone\n",
            "  Created wheel for pefile: filename=pefile-2021.9.3-py3-none-any.whl size=68844 sha256=279bd42bd24fda3c32d1cae1a18b84645d886c73af16b0d3429d507171a68adc\n",
            "  Stored in directory: /root/.cache/pip/wheels/50/be/9b/d19a6151b9c6e303f823faedf03193d7e90dac4009a0bdafeb\n",
            "Successfully built CppHeaderParser itanium-demangler mulpyplexer pefile\n",
            "Installing collected packages: smmap, bitstring, archinfo, z3-solver, pyvex, pysmt, pyelftools, ply, plumbum, pefile, gitdb, unicorn, rpyc, nampa, mulpyplexer, itanium-demangler, GitPython, dpkt, CppHeaderParser, cle, claripy, capstone, ailment, angr\n",
            "Successfully installed CppHeaderParser-2.7.4 GitPython-3.1.24 ailment-9.0.10072 angr-9.0.10072 archinfo-9.0.10072 bitstring-3.1.9 capstone-4.0.2 claripy-9.0.10072 cle-9.0.10072 dpkt-1.9.7.2 gitdb-4.0.7 itanium-demangler-1.0 mulpyplexer-0.9 nampa-0.1.1 pefile-2021.9.3 plumbum-1.7.0 ply-3.11 pyelftools-0.27 pysmt-0.9.1.dev139 pyvex-9.0.10072 rpyc-5.0.1 smmap-4.0.0 unicorn-1.0.2rc4 z3-solver-4.8.12.0\n"
          ]
        }
      ]
    },
    {
      "cell_type": "code",
      "metadata": {
        "colab": {
          "base_uri": "https://localhost:8080/"
        },
        "id": "8AdqNPNOqqdt",
        "outputId": "237a4efd-8345-40bc-af6c-78fccae23e1d"
      },
      "source": [
        "!git clone https://github.com/angr/angr-doc.git\n"
      ],
      "execution_count": null,
      "outputs": [
        {
          "output_type": "stream",
          "name": "stdout",
          "text": [
            "Cloning into 'angr-doc'...\n",
            "remote: Enumerating objects: 6121, done.\u001b[K\n",
            "remote: Counting objects: 100% (476/476), done.\u001b[K\n",
            "remote: Compressing objects: 100% (293/293), done.\u001b[K\n",
            "remote: Total 6121 (delta 312), reused 312 (delta 183), pack-reused 5645\u001b[K\n",
            "Receiving objects: 100% (6121/6121), 7.44 MiB | 23.02 MiB/s, done.\n",
            "Resolving deltas: 100% (3811/3811), done.\n"
          ]
        }
      ]
    },
    {
      "cell_type": "code",
      "metadata": {
        "colab": {
          "base_uri": "https://localhost:8080/"
        },
        "id": "R9T2UqSOrK31",
        "outputId": "03b12f6c-848f-4a6c-bb47-fc56466f29a2"
      },
      "source": [
        "ls\n"
      ],
      "execution_count": null,
      "outputs": [
        {
          "output_type": "stream",
          "name": "stdout",
          "text": [
            "\u001b[0m\u001b[01;34mangr-doc\u001b[0m/  \u001b[01;34msample_data\u001b[0m/\n"
          ]
        }
      ]
    },
    {
      "cell_type": "code",
      "metadata": {
        "colab": {
          "base_uri": "https://localhost:8080/"
        },
        "id": "QmFJ60XlrOcc",
        "outputId": "b226af33-9fd5-44d8-8b2a-242127ca754b"
      },
      "source": [
        "cd angr-doc"
      ],
      "execution_count": null,
      "outputs": [
        {
          "output_type": "stream",
          "name": "stdout",
          "text": [
            "/content/angr-doc\n"
          ]
        }
      ]
    },
    {
      "cell_type": "code",
      "metadata": {
        "colab": {
          "base_uri": "https://localhost:8080/"
        },
        "id": "emyvKiNnrUi7",
        "outputId": "3bfce983-2f54-40e9-db75-ab49c4e4632f"
      },
      "source": [
        "ls"
      ],
      "execution_count": null,
      "outputs": [
        {
          "output_type": "stream",
          "name": "stdout",
          "text": [
            "angr-papers.bib  CHANGELOG.md   \u001b[0m\u001b[01;34mexamples\u001b[0m/      INSTALL.md    README.md\n",
            "\u001b[01;34mapi-doc\u001b[0m/         CHEATSHEET.md  HACKING.md     LICENSE       SUMMARY.md\n",
            "book.json        \u001b[01;34mdocs\u001b[0m/          HELPWANTED.md  MIGRATION.md  \u001b[01;34mtests\u001b[0m/\n"
          ]
        }
      ]
    },
    {
      "cell_type": "code",
      "metadata": {
        "colab": {
          "base_uri": "https://localhost:8080/"
        },
        "id": "KL8z_5EIrVu7",
        "outputId": "6a75886c-df48-4287-b7b2-ef27ca78bcc4"
      },
      "source": [
        "cd examples/"
      ],
      "execution_count": null,
      "outputs": [
        {
          "output_type": "stream",
          "name": "stdout",
          "text": [
            "/content/angr-doc/examples\n"
          ]
        }
      ]
    },
    {
      "cell_type": "code",
      "metadata": {
        "colab": {
          "base_uri": "https://localhost:8080/"
        },
        "id": "qV1gq331rZ1T",
        "outputId": "d15c829f-9be6-4f03-9315-7a422a65f0eb"
      },
      "source": [
        "ls"
      ],
      "execution_count": null,
      "outputs": [
        {
          "output_type": "stream",
          "name": "stdout",
          "text": [
            "\u001b[0m\u001b[01;34m0ctf_momo_3\u001b[0m/                     \u001b[01;34mflareon2015_5\u001b[0m/\n",
            "\u001b[01;34m0ctf_trace\u001b[0m/                      \u001b[01;34mgoogle2016_unbreakable_0\u001b[0m/\n",
            "\u001b[01;34m9447_nobranch\u001b[0m/                   \u001b[01;34mgoogle2016_unbreakable_1\u001b[0m/\n",
            "\u001b[01;34mais3_crackme\u001b[0m/                    \u001b[01;34mgrub\u001b[0m/\n",
            "\u001b[01;34mandroid_arm_license_validation\u001b[0m/  \u001b[01;34mhackcon2016_angry-reverser\u001b[0m/\n",
            "\u001b[01;34masisctffinals2015_fake\u001b[0m/          \u001b[01;34mhitcon2017_sakura\u001b[0m/\n",
            "\u001b[01;34masisctffinals2015_license\u001b[0m/       \u001b[01;34mictf2017_javaisnotfun\u001b[0m/\n",
            "\u001b[01;34mb01lersctf2020_little_engine\u001b[0m/    \u001b[01;34minsomnihack_aeg\u001b[0m/\n",
            "\u001b[01;34mCADET_00001\u001b[0m/                     \u001b[01;34mjava_androidnative1\u001b[0m/\n",
            "\u001b[01;34mcmu_binary_bomb\u001b[0m/                 \u001b[01;34mjava_crackme1\u001b[0m/\n",
            "\u001b[01;34mcodegate_2017-angrybird\u001b[0m/         \u001b[01;34mjava_simple3\u001b[0m/\n",
            "\u001b[01;34mcsaw_wyvern\u001b[0m/                     \u001b[01;34mjava_simple4\u001b[0m/\n",
            "\u001b[01;34mCSCI-4968-MBE\u001b[0m/                   \u001b[01;34mmma_howtouse\u001b[0m/\n",
            "\u001b[01;34mcsgames2018\u001b[0m/                     \u001b[01;34mmma_simplehash\u001b[0m/\n",
            "\u001b[01;34mdefcamp_r100\u001b[0m/                    \u001b[01;34msecconquals2016_ropsynth\u001b[0m/\n",
            "\u001b[01;34mdefcamp_r200\u001b[0m/                    \u001b[01;34msecuinside2016mbrainfuzz\u001b[0m/\n",
            "\u001b[01;34mdefcon2016quals_baby-re\u001b[0m/         \u001b[01;34msecurityfest_fairlight\u001b[0m/\n",
            "\u001b[01;34mdefcon2017quals_crackme2000\u001b[0m/     \u001b[01;34msharif7_rev50\u001b[0m/\n",
            "\u001b[01;34mdefcon2019quals_veryandroidoso\u001b[0m/  \u001b[01;34msimple_heap_overflow\u001b[0m/\n",
            "\u001b[01;34mekopartyctf2015_rev100\u001b[0m/          \u001b[01;34mstrcpy_find\u001b[0m/\n",
            "\u001b[01;34mekopartyctf2016_rev250\u001b[0m/          \u001b[01;34msym-write\u001b[0m/\n",
            "\u001b[01;34mekopartyctf2016_sokohashv2\u001b[0m/      \u001b[01;34mtumctf2016_zwiebel\u001b[0m/\n",
            "\u001b[01;34mfauxware\u001b[0m/                        \u001b[01;34munmapped_analysis\u001b[0m/\n",
            "\u001b[01;34mflareon2015_10\u001b[0m/                  \u001b[01;34mwhitehat_crypto400\u001b[0m/\n",
            "\u001b[01;34mflareon2015_2\u001b[0m/                   \u001b[01;34mwhitehatvn2015_re400\u001b[0m/\n"
          ]
        }
      ]
    },
    {
      "cell_type": "code",
      "metadata": {
        "colab": {
          "base_uri": "https://localhost:8080/"
        },
        "id": "E4lQcjrNr9KL",
        "outputId": "54a36ffb-e870-49f5-fd80-cdb6fc615529"
      },
      "source": [
        "cd ais3_crackme/"
      ],
      "execution_count": null,
      "outputs": [
        {
          "output_type": "stream",
          "name": "stdout",
          "text": [
            "/content/angr-doc/examples/ais3_crackme\n"
          ]
        }
      ]
    },
    {
      "cell_type": "code",
      "metadata": {
        "colab": {
          "base_uri": "https://localhost:8080/"
        },
        "id": "KG8ApJCBr_nD",
        "outputId": "867add79-238d-4f89-d480-6a535de3cec9"
      },
      "source": [
        "ls"
      ],
      "execution_count": null,
      "outputs": [
        {
          "output_type": "stream",
          "name": "stdout",
          "text": [
            "\u001b[0m\u001b[01;32mais3_crackme\u001b[0m*  \u001b[01;32msolve.py\u001b[0m*\n"
          ]
        }
      ]
    },
    {
      "cell_type": "code",
      "metadata": {
        "colab": {
          "base_uri": "https://localhost:8080/"
        },
        "id": "sQNor8EmsBOj",
        "outputId": "d300b907-3155-46d9-abde-4f2aedc898cf"
      },
      "source": [
        "cat solve.py"
      ],
      "execution_count": null,
      "outputs": [
        {
          "output_type": "stream",
          "name": "stdout",
          "text": [
            "#!/usr/bin/env python\n",
            "\n",
            "\n",
            "'''\n",
            "ais3_crackme has been developed by Tyler Nighswander (tylerni7) for ais3.\n",
            "\n",
            "It is an easy crackme challenge. It checks the command line argument.\n",
            "'''\n",
            "\n",
            "import angr\n",
            "import claripy\n",
            "\n",
            "\n",
            "def main():\n",
            "    project = angr.Project(\"./ais3_crackme\")\n",
            "\n",
            "    #create an initial state with a symbolic bit vector as argv1\n",
            "    argv1 = claripy.BVS(\"argv1\",100*8) #since we do not the length now, we just put 100 bytes\n",
            "    initial_state = project.factory.entry_state(args=[\"./crackme1\",argv1])\n",
            "\n",
            "    #create a path group using the created initial state \n",
            "    sm = project.factory.simulation_manager(initial_state)\n",
            "\n",
            "    #symbolically execute the program until we reach the wanted value of the instruction pointer\n",
            "    sm.explore(find=0x400602) #at this instruction the binary will print(the \"correct\" message)\n",
            "\n",
            "    found = sm.found[0]\n",
            "    #ask to the symbolic solver to get the value of argv1 in the reached state as a string\n",
            "    solution = found.solver.eval(argv1, cast_to=bytes)\n",
            "\n",
            "    print(repr(solution))\n",
            "    solution = solution[:solution.find(b\"\\x00\")]\n",
            "    print(solution)\n",
            "    return solution\n",
            "\n",
            "def test():\n",
            "    res = main()\n",
            "    assert res == b\"ais3{I_tak3_g00d_n0t3s}\"\n",
            "\n",
            "\n",
            "if __name__ == '__main__':\n",
            "    print(repr(main()))\n",
            "\n"
          ]
        }
      ]
    },
    {
      "cell_type": "code",
      "metadata": {
        "colab": {
          "base_uri": "https://localhost:8080/"
        },
        "id": "jXB5hVHTsJfc",
        "outputId": "61f4c42e-eeed-46ad-f46b-1f278ef9e715"
      },
      "source": [
        "!python3 solve.py"
      ],
      "execution_count": null,
      "outputs": [
        {
          "output_type": "stream",
          "name": "stdout",
          "text": [
            "b'ais3{I_tak3_g00d_n0t3s}\\x00\\x00\\x00\\x00\\x00\\x00\\x00\\x00\\x00\\x00\\x00\\x00\\x00\\x00\\x00\\x00\\x00\\x00\\x00\\x00\\x00\\x00\\x00\\x00\\x00\\x00\\x00\\x00\\x00\\x00\\x00\\x00\\x00\\x00\\x00\\x00\\x00\\x00\\x00\\x00\\x00\\x00\\x00\\x00\\x00\\x00\\x00\\x00\\x00\\x00\\x00\\x00\\x00\\x00\\x00\\x00\\x00\\x00\\x00\\x00\\x00\\x00\\x00\\x00\\x00\\x00\\x00\\x00\\x00\\x00\\x00\\x00\\x00\\x00\\x00\\x00\\x00'\n",
            "b'ais3{I_tak3_g00d_n0t3s}'\n",
            "b'ais3{I_tak3_g00d_n0t3s}'\n"
          ]
        }
      ]
    },
    {
      "cell_type": "markdown",
      "metadata": {
        "id": "x2h5CYcW1wyU"
      },
      "source": [
        "This should be showing on Github!"
      ]
    },
    {
      "cell_type": "code",
      "metadata": {
        "id": "_70fqfBF03LJ",
        "colab": {
          "base_uri": "https://localhost:8080/"
        },
        "outputId": "6b48ca0e-1803-4a2e-e20f-3e3d45bc1a14"
      },
      "source": [
        "!git pull"
      ],
      "execution_count": null,
      "outputs": [
        {
          "output_type": "stream",
          "name": "stdout",
          "text": [
            "Already up to date.\n"
          ]
        }
      ]
    },
    {
      "cell_type": "markdown",
      "metadata": {
        "id": "hB10e4Lm16lL"
      },
      "source": [
        ""
      ]
    }
  ]
}